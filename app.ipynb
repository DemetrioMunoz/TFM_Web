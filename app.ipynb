{
 "cells": [
  {
   "cell_type": "code",
   "execution_count": 2,
   "metadata": {},
   "outputs": [
    {
     "name": "stdout",
     "output_type": "stream",
     "text": [
      " * Serving Flask app '__main__'\n",
      " * Debug mode: off\n"
     ]
    },
    {
     "name": "stderr",
     "output_type": "stream",
     "text": [
      "WARNING: This is a development server. Do not use it in a production deployment. Use a production WSGI server instead.\n",
      " * Running on http://127.0.0.1:5000\n",
      "Press CTRL+C to quit\n",
      "127.0.0.1 - - [13/Jun/2024 10:03:31] \"GET / HTTP/1.1\" 200 -\n",
      "127.0.0.1 - - [13/Jun/2024 10:03:50] \"POST /result HTTP/1.1\" 200 -\n",
      "127.0.0.1 - - [13/Jun/2024 10:04:00] \"GET /model_result HTTP/1.1\" 200 -\n",
      "127.0.0.1 - - [13/Jun/2024 10:04:00] \"GET /static/images/output.png HTTP/1.1\" 304 -\n",
      "127.0.0.1 - - [13/Jun/2024 10:04:00] \"GET /static/images/result_fig_features.png HTTP/1.1\" 304 -\n",
      "127.0.0.1 - - [13/Jun/2024 10:04:00] \"GET /static/images/result_fig_dist.png HTTP/1.1\" 304 -\n",
      "127.0.0.1 - - [13/Jun/2024 10:04:04] \"GET /index HTTP/1.1\" 200 -\n"
     ]
    }
   ],
   "source": [
    "import os\n",
    "import numpy as np\n",
    "import pandas as pd\n",
    "import flask\n",
    "import pickle\n",
    "from flask import Flask, redirect, url_for, request, render_template\n",
    "from sklearn.preprocessing import OneHotEncoder\n",
    "import umap\n",
    "\n",
    "app = Flask(__name__, template_folder='templates')\n",
    "\n",
    "@app.route('/')\n",
    "@app.route('/index')\n",
    "def index():\n",
    "    return flask.render_template('index.html')\n",
    "\n",
    "def ValuePredictor(to_predict_list):\n",
    "    # Load necessary models\n",
    "    loaded_umap = pickle.load(open(\"umap_model.pkl\", \"rb\"))\n",
    "    loaded_kmeans = pickle.load(open(\"kmeans_model.pkl\", \"rb\"))\n",
    "    ohe = pickle.load(open(\"ohe.pkl\", \"rb\"))\n",
    "\n",
    "    # Preprocess input\n",
    "    df_input = pd.DataFrame([to_predict_list], columns=['shape', 'margin', 'density'])\n",
    "    df_input['shape'] = df_input['shape'].astype('object')\n",
    "    df_input['margin'] = df_input['margin'].astype('object')\n",
    "    df_input['density'] = df_input['density'].astype('object')\n",
    "\n",
    "    # One-hot encode categorical variables\n",
    "    df_onehot_categorical = df_input.copy()\n",
    "    encoder_categorical = ohe.transform(df_onehot_categorical)\n",
    "    \n",
    "    # Apply UMAP transformation\n",
    "    umap_components = loaded_umap.transform(encoder_categorical)\n",
    "    \n",
    "    # Predict with KMeans\n",
    "    result = loaded_kmeans.predict(umap_components)\n",
    "    return result[0]\n",
    "\n",
    "@app.route('/result', methods=['POST'])\n",
    "def result():\n",
    "    if request.method == 'POST':\n",
    "        to_predict_list = request.form.values()\n",
    "        to_predict_list = list(map(float, to_predict_list))\n",
    "        result = ValuePredictor(to_predict_list)\n",
    "\n",
    "        if result == 0:\n",
    "            group = 'Grupo 0'\n",
    "            prediction = '< 20%'\n",
    "        elif result == 1:\n",
    "            group = 'Grupo 1'\n",
    "            prediction = '> 75%'\n",
    "        elif result == 2:\n",
    "            group = 'Grupo 2'\n",
    "            prediction = '> 50%'\n",
    "        elif result == 3:\n",
    "            group = 'Grupo 3'\n",
    "            prediction = '> 75%'\n",
    "        elif result == 4:\n",
    "            group = 'Grupo 4'\n",
    "            prediction = '< 20%'\n",
    "        elif result == 5:\n",
    "            group = 'Grupo 5'\n",
    "            prediction = '> 75%'\n",
    "        elif result == 6:\n",
    "            group = 'Grupo 6'\n",
    "            prediction = '0%'\n",
    "\n",
    "        return render_template('result.html', group=group, prediction=prediction)\n",
    "\n",
    "@app.route('/model_result')\n",
    "def model_result():\n",
    "    return render_template('model_result.html')\n",
    "\n",
    "if __name__ == \"__main__\":\n",
    "    app.run(debug=False)\n"
   ]
  }
 ],
 "metadata": {
  "kernelspec": {
   "display_name": "Python 3",
   "language": "python",
   "name": "python3"
  },
  "language_info": {
   "codemirror_mode": {
    "name": "ipython",
    "version": 3
   },
   "file_extension": ".py",
   "mimetype": "text/x-python",
   "name": "python",
   "nbconvert_exporter": "python",
   "pygments_lexer": "ipython3",
   "version": "3.12.3"
  }
 },
 "nbformat": 4,
 "nbformat_minor": 2
}
